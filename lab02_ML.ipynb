{
 "cells": [
  {
   "cell_type": "code",
   "execution_count": 1,
   "metadata": {},
   "outputs": [
    {
     "name": "stdout",
     "output_type": "stream",
     "text": [
      "Euclidean Distance: 1.4142135623730951\n",
      "Manhattan Distance: 2\n"
     ]
    }
   ],
   "source": [
    "#defining euclidean distance function\n",
    "def cal_euclidean_distance(vector1, vector2):\n",
    "    if len(vector1) != len(vector2):\n",
    "        return \"Vectors are of different dimensionality\"\n",
    "    # Defining euclidean distance formula \n",
    "    euclidean_distance= sum((vector1[i] - vector2[i]) ** 2 for i in range(min(len(vector1), len(vector2))))\n",
    "\n",
    "    return (euclidean_distance) ** 0.5\n",
    "\n",
    "# Defining cal_manhattan function\n",
    "def cal_manhattan_distance(vector1, vector2):\n",
    "    if len(vector1) != len(vector2):\n",
    "        return \"Vectors are of different dimensionality\"\n",
    "    # Defining manhattan distance formula\n",
    "    return sum(abs(vector1[i] - vector2[i]) for i in range(min(len(vector1),len(vector2))))\n",
    "# Asking user to enter the input\n",
    "vector_1 = [int(x) for x in input(\"Enter vector A  separated by commas: \").split(',')]\n",
    "vector_2 = [int(x) for x in input(\"Enter vector B  separated by commas: \").split(',')]\n",
    "# Calling both function euclidean and manhattan functions \n",
    "euclidean_distance_result = cal_euclidean_distance(vector_1, vector_2)\n",
    "manhattan_distance_result = cal_manhattan_distance(vector_1, vector_2)\n",
    "\n",
    "print(\"Euclidean Distance:\", euclidean_distance_result)\n",
    "print(\"Manhattan Distance:\", manhattan_distance_result)\n"
   ]
  },
  {
   "cell_type": "code",
   "execution_count": 3,
   "metadata": {},
   "outputs": [
    {
     "name": "stdout",
     "output_type": "stream",
     "text": [
      "Numeric Labels: [3, 1, 5, 4, 2, 0]\n",
      "Label Mapping: {'B-': 0, 'A+': 1, 'B+': 2, 'A': 3, 'B': 4, 'A-': 5}\n"
     ]
    }
   ],
   "source": [
    "# Define a function for label encoding \n",
    "def label_encoding(data):\n",
    "    # Get unique values in the input data\n",
    "    unique_values = list(set(data))\n",
    "    \n",
    "    # Create a dictionary to map unique values to numeric labels\n",
    "    label_mapping = {}\n",
    "    for index in range(len(unique_values)):\n",
    "        label_mapping[unique_values[index]] = index\n",
    "\n",
    "    # Convert the original data to numeric labels using the mapping\n",
    "    numeric_labels = [label_mapping[value] for value in data]\n",
    "\n",
    "    return numeric_labels, label_mapping\n",
    "\n",
    "\n",
    "# Get user input for categorical data as comma-separated values\n",
    "categorical_data = input(\"Enter categorical data (comma-separated values): \").split(',')\n",
    "\n",
    "# Apply label encoding to the input data\n",
    "numeric_labels, label_mapping = label_encoding(categorical_data)\n",
    "print(\"Numeric Labels:\", numeric_labels)\n",
    "print(\"Label Mapping:\", label_mapping)\n"
   ]
  },
  {
   "cell_type": "code",
   "execution_count": 4,
   "metadata": {},
   "outputs": [
    {
     "name": "stdout",
     "output_type": "stream",
     "text": [
      "One-Hot Encoded Data:\n",
      "[0, 0, 0, 1, 0, 0]\n",
      "[0, 1, 0, 0, 0, 0]\n",
      "[0, 0, 0, 0, 0, 1]\n",
      "[0, 0, 0, 0, 1, 0]\n",
      "[0, 0, 1, 0, 0, 0]\n",
      "[1, 0, 0, 0, 0, 0]\n",
      "Unique Values: ['B-', 'A+', 'B+', 'A', 'B', 'A-']\n"
     ]
    }
   ],
   "source": [
    "# Define a function for one-hot encoding \n",
    "def one_hot_encoding(data):\n",
    "    # Get unique values in the input data\n",
    "    unique_values = list(set(data))\n",
    "    encoded_data = []\n",
    "\n",
    "    # Loop through each value in the original data\n",
    "    for value in data:\n",
    "        # Create binary encoding for each unique value (1 for match, 0 otherwise)\n",
    "        binary_encoding = [1 if value == unique_value else 0 for unique_value in unique_values]\n",
    "        encoded_data.extend(binary_encoding)\n",
    "\n",
    "    # Calculate the number of unique values and samples\n",
    "    num_unique_values = len(unique_values)\n",
    "    num_samples = len(data)\n",
    "\n",
    "    # Reshape the encoded data into a matrix\n",
    "    one_hot_encoded = [encoded_data[i:i + num_unique_values] for i in range(0, num_samples * num_unique_values, num_unique_values)]\n",
    "\n",
    "    return one_hot_encoded, unique_values\n",
    "\n",
    "# Get user input for categorical data as comma-separated values\n",
    "categorical_data = input(\"Enter categorical data (comma-separated values): \").split(',')\n",
    "\n",
    "# Apply one-hot encoding to the input data\n",
    "one_hot_encoded, unique_values = one_hot_encoding(categorical_data)\n",
    "\n",
    "# Display the output \n",
    "print(\"One-Hot Encoded Data:\")\n",
    "for row in one_hot_encoded:\n",
    "    print(row)\n",
    "\n",
    "print(\"Unique Values:\", unique_values)\n"
   ]
  }
 ],
 "metadata": {
  "kernelspec": {
   "display_name": "Python 3 (ipykernel)",
   "language": "python",
   "name": "python3"
  },
  "language_info": {
   "codemirror_mode": {
    "name": "ipython",
    "version": 3
   },
   "file_extension": ".py",
   "mimetype": "text/x-python",
   "name": "python",
   "nbconvert_exporter": "python",
   "pygments_lexer": "ipython3",
   "version": "3.10.13"
  }
 },
 "nbformat": 4,
 "nbformat_minor": 2
}
