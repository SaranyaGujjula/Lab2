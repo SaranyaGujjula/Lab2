{
 "cells": [
  {
   "cell_type": "code",
   "execution_count": null,
   "metadata": {},
   "outputs": [],
   "source": [
    "import numpy as np\n",
    "import matplotlib.pyplot as plt\n",
    "\n",
    "# Activation Functions\n",
    "def step_function(x):\n",
    "    return 1 if x >= 0 else 0\n",
    "\n",
    "def bipolar_step_function(x):\n",
    "    return -1 if x < 0 else 1\n",
    "\n",
    "def sigmoid_function(x):\n",
    "    return 1 / (1 + np.exp(-x))\n",
    "\n",
    "def relu_function(x):\n",
    "    return max(0, x)\n",
    "\n",
    "# Perceptron Class\n",
    "class Perceptron:\n",
    "    def __init__(self, input_size, activation_func):\n",
    "        self.weights = np.random.rand(input_size + 1)  # +1 for the bias\n",
    "        self.activation_func = activation_func\n",
    "\n",
    "    def perceptron(self, input_values):\n",
    "        inputs = np.insert(input_values, 0, 1)\n",
    "        weighted_sum = np.dot(inputs, self.weights)\n",
    "        return self.activation_func(weighted_sum)\n",
    "\n",
    "    def train(self, inputs, targets, learning_rate=0.1, max_epochs=10000, error_threshold=0.002):\n",
    "        error_history = []\n",
    "\n",
    "        for epoch in range(max_epochs):\n",
    "            total_error = 0\n",
    "            for input_values, target_output in zip(inputs, targets):\n",
    "                if self.activation_func == bipolar_step_function:\n",
    "                    target_output *= 2  # Convert 0 to -1 for bipolar step function\n",
    "\n",
    "                predicted_output = self.perceptron(input_values)\n",
    "                error = target_output - predicted_output\n",
    "                self.weights += learning_rate * error * np.insert(input_values, 0, 1)\n",
    "\n",
    "                total_error += np.sum(error**2) / 2\n",
    "\n",
    "            error_history.append(total_error)\n",
    "\n",
    "            if total_error <= error_threshold:\n",
    "                print(f\"Converged at epoch {epoch + 1}\")\n",
    "                break\n",
    "\n",
    "        return error_history, epoch + 1"
   ]
  }
 ],
 "metadata": {
  "language_info": {
   "name": "python"
  }
 },
 "nbformat": 4,
 "nbformat_minor": 2
}
